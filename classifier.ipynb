{
 "cells": [
  {
   "cell_type": "code",
   "execution_count": 1,
   "metadata": {},
   "outputs": [
    {
     "name": "stdout",
     "output_type": "stream",
     "text": [
      "jumlah data training glioma: 901\n",
      "jumlah data training meningioma: 913\n",
      "jumlah data training gaada tumor: 438\n",
      "jumlah data training pituitary: 844\n"
     ]
    }
   ],
   "source": [
    "import os\n",
    "\n",
    "data_dir = \"D:\\\\TITO\\\\Documents\\\\BANGKIT\\\\project\\\\brain_tumour_classification\\\\Data\"\n",
    "\n",
    "glioma_tumor_training_dir = os.path.join(data_dir, \"training\", \"glioma_tumor\")\n",
    "meningioma_tumor_training_dir = os.path.join(data_dir, \"training\", \"meningioma_tumor\")\n",
    "normal_training_dir = os.path.join(data_dir,\"training\", \"normal\")\n",
    "pituitary_tumor_training_dir = os.path.join(data_dir,\"training\", \"pituitary_tumor\")\n",
    "\n",
    "print('jumlah data training glioma:', len(os.listdir(glioma_tumor_training_dir)))\n",
    "print('jumlah data training meningioma:', len(os.listdir(meningioma_tumor_training_dir)))\n",
    "print('jumlah data training gaada tumor:', len(os.listdir(normal_training_dir)))\n",
    "print('jumlah data training pituitary:', len(os.listdir(pituitary_tumor_training_dir)))"
   ]
  },
  {
   "cell_type": "code",
   "execution_count": 2,
   "metadata": {},
   "outputs": [
    {
     "name": "stdout",
     "output_type": "stream",
     "text": [
      "jumlah data validasi glioma: 702\n",
      "jumlah data validasi meningioma: 913\n",
      "jumlah data validasi gaada tumor: 438\n",
      "jumlah data validasi pituitary: 844\n"
     ]
    }
   ],
   "source": [
    "glioma_tumor_validation_dir = os.path.join(data_dir, \"validation\", \"glioma_tumor\")\n",
    "meningioma_tumor_validation_dir = os.path.join(data_dir, \"validation\", \"meningioma_tumor\")\n",
    "normal_validation_dir = os.path.join(data_dir,\"validation\", \"normal\")\n",
    "pituitary_tumor_validation_dir = os.path.join(data_dir,\"validation\", \"pituitary_tumor\")\n",
    "\n",
    "print('jumlah data validasi glioma:', len(os.listdir(glioma_tumor_validation_dir)))\n",
    "print('jumlah data validasi meningioma:', len(os.listdir(meningioma_tumor_validation_dir)))\n",
    "print('jumlah data validasi gaada tumor:', len(os.listdir(normal_validation_dir)))\n",
    "print('jumlah data validasi pituitary:', len(os.listdir(pituitary_tumor_validation_dir)))"
   ]
  },
  {
   "cell_type": "code",
   "execution_count": 3,
   "metadata": {},
   "outputs": [],
   "source": [
    "import tensorflow as tf\n",
    "\n",
    "model = tf.keras.models.Sequential([\n",
    "    tf.keras.layers.Conv2D(16,(3,3),activation='relu', input_shape=(256,256,3)),\n",
    "    tf.keras.layers.MaxPooling2D(2,2),\n",
    "    tf.keras.layers.Conv2D(32,(3,3),activation='relu'),\n",
    "    tf.keras.layers.MaxPooling2D(2,2),\n",
    "    tf.keras.layers.Conv2D(64,(3,3),activation='relu'),\n",
    "    tf.keras.layers.MaxPooling2D(2,2),\n",
    "    tf.keras.layers.Conv2D(128,(3,3),activation='relu'),\n",
    "    tf.keras.layers.MaxPooling2D(2,2),\n",
    "    tf.keras.layers.Conv2D(128,(3,3),activation='relu'),\n",
    "    tf.keras.layers.MaxPooling2D(2,2),\n",
    "    tf.keras.layers.Flatten(),\n",
    "    tf.keras.layers.Dense(128, activation='relu'),\n",
    "    tf.keras.layers.Dense(32, activation='relu'),\n",
    "    tf.keras.layers.Dense(4, activation='softmax')\n",
    "])"
   ]
  },
  {
   "cell_type": "code",
   "execution_count": 4,
   "metadata": {},
   "outputs": [
    {
     "name": "stdout",
     "output_type": "stream",
     "text": [
      "Model: \"sequential\"\n",
      "_________________________________________________________________\n",
      " Layer (type)                Output Shape              Param #   \n",
      "=================================================================\n",
      " conv2d (Conv2D)             (None, 254, 254, 16)      448       \n",
      "                                                                 \n",
      " max_pooling2d (MaxPooling2D  (None, 127, 127, 16)     0         \n",
      " )                                                               \n",
      "                                                                 \n",
      " conv2d_1 (Conv2D)           (None, 125, 125, 32)      4640      \n",
      "                                                                 \n",
      " max_pooling2d_1 (MaxPooling  (None, 62, 62, 32)       0         \n",
      " 2D)                                                             \n",
      "                                                                 \n",
      " conv2d_2 (Conv2D)           (None, 60, 60, 64)        18496     \n",
      "                                                                 \n",
      " max_pooling2d_2 (MaxPooling  (None, 30, 30, 64)       0         \n",
      " 2D)                                                             \n",
      "                                                                 \n",
      " conv2d_3 (Conv2D)           (None, 28, 28, 128)       73856     \n",
      "                                                                 \n",
      " max_pooling2d_3 (MaxPooling  (None, 14, 14, 128)      0         \n",
      " 2D)                                                             \n",
      "                                                                 \n",
      " conv2d_4 (Conv2D)           (None, 12, 12, 128)       147584    \n",
      "                                                                 \n",
      " max_pooling2d_4 (MaxPooling  (None, 6, 6, 128)        0         \n",
      " 2D)                                                             \n",
      "                                                                 \n",
      " flatten (Flatten)           (None, 4608)              0         \n",
      "                                                                 \n",
      " dense (Dense)               (None, 128)               589952    \n",
      "                                                                 \n",
      " dense_1 (Dense)             (None, 32)                4128      \n",
      "                                                                 \n",
      " dense_2 (Dense)             (None, 4)                 132       \n",
      "                                                                 \n",
      "=================================================================\n",
      "Total params: 839,236\n",
      "Trainable params: 839,236\n",
      "Non-trainable params: 0\n",
      "_________________________________________________________________\n"
     ]
    }
   ],
   "source": [
    "model.summary()"
   ]
  },
  {
   "cell_type": "code",
   "execution_count": 5,
   "metadata": {},
   "outputs": [],
   "source": [
    "from keras.callbacks import EarlyStopping, ReduceLROnPlateau\n",
    "es = EarlyStopping(patience=5,\n",
    "\t\t\t\tmonitor = 'val_accuracy',\n",
    "\t\t\t\trestore_best_weights = True)\n",
    "\n",
    "lr = ReduceLROnPlateau(patience = 2,\n",
    "\t\t\t\t\tmonitor = 'val_loss',\n",
    "\t\t\t\t\tfactor = 0.5,\n",
    "\t\t\t\t\tverbose = 0)\n"
   ]
  },
  {
   "cell_type": "code",
   "execution_count": 6,
   "metadata": {},
   "outputs": [],
   "source": [
    "model.compile(loss = 'categorical_crossentropy', optimizer='adam', metrics=['accuracy'])"
   ]
  },
  {
   "cell_type": "code",
   "execution_count": 7,
   "metadata": {},
   "outputs": [
    {
     "name": "stdout",
     "output_type": "stream",
     "text": [
      "Found 3096 images belonging to 4 classes.\n",
      "Found 2897 images belonging to 4 classes.\n"
     ]
    }
   ],
   "source": [
    "from tensorflow.keras.preprocessing.image import ImageDataGenerator\n",
    "\n",
    "TRAINING_DIR =\"D:\\\\TITO\\\\Documents\\\\BANGKIT\\\\project\\\\brain_tumour_classification\\\\Data\\\\training\"\n",
    "training_datagen = ImageDataGenerator(rescale = 1./255.0)\n",
    "\n",
    "VALIDATION_DIR = \"D:\\\\TITO\\\\Documents\\\\BANGKIT\\\\project\\\\brain_tumour_classification\\\\Data\\\\validation\"\n",
    "validation_datagen = ImageDataGenerator(rescale=1./255)\n",
    "\n",
    "train_generator = training_datagen.flow_from_directory(\n",
    "    TRAINING_DIR,\n",
    "    target_size=(256,256),\n",
    "    class_mode='categorical',\n",
    "    batch_size = 16\n",
    ")\n",
    "\n",
    "validation_generator = validation_datagen.flow_from_directory(\n",
    "    VALIDATION_DIR,\n",
    "    target_size=(256,256),\n",
    "    class_mode='categorical',\n",
    "    batch_size=16\n",
    ")"
   ]
  },
  {
   "cell_type": "code",
   "execution_count": 8,
   "metadata": {},
   "outputs": [
    {
     "name": "stdout",
     "output_type": "stream",
     "text": [
      "Epoch 1/25\n",
      "20/20 [==============================] - 26s 434ms/step - loss: 1.3811 - accuracy: 0.2812 - val_loss: 1.4130 - val_accuracy: 0.1667 - lr: 0.0010\n",
      "Epoch 2/25\n",
      "20/20 [==============================] - 8s 411ms/step - loss: 1.3731 - accuracy: 0.2969 - val_loss: 1.3341 - val_accuracy: 0.3542 - lr: 0.0010\n",
      "Epoch 3/25\n",
      "20/20 [==============================] - 7s 355ms/step - loss: 1.3499 - accuracy: 0.3654 - val_loss: 1.3751 - val_accuracy: 0.2708 - lr: 0.0010\n",
      "Epoch 4/25\n",
      "20/20 [==============================] - 6s 302ms/step - loss: 1.3343 - accuracy: 0.3109 - val_loss: 1.2793 - val_accuracy: 0.3542 - lr: 0.0010\n",
      "Epoch 5/25\n",
      "20/20 [==============================] - 6s 289ms/step - loss: 1.2887 - accuracy: 0.3594 - val_loss: 1.3358 - val_accuracy: 0.3542 - lr: 0.0010\n",
      "Epoch 6/25\n",
      "20/20 [==============================] - 5s 250ms/step - loss: 1.1957 - accuracy: 0.4812 - val_loss: 1.2050 - val_accuracy: 0.4167 - lr: 0.0010\n",
      "Epoch 7/25\n",
      "20/20 [==============================] - 5s 239ms/step - loss: 1.1324 - accuracy: 0.5219 - val_loss: 1.0595 - val_accuracy: 0.5417 - lr: 0.0010\n",
      "Epoch 8/25\n",
      "20/20 [==============================] - 4s 206ms/step - loss: 0.9415 - accuracy: 0.5969 - val_loss: 0.9059 - val_accuracy: 0.5833 - lr: 0.0010\n",
      "Epoch 9/25\n",
      "20/20 [==============================] - 4s 209ms/step - loss: 0.9853 - accuracy: 0.5875 - val_loss: 1.1892 - val_accuracy: 0.5417 - lr: 0.0010\n",
      "Epoch 10/25\n",
      "20/20 [==============================] - 4s 178ms/step - loss: 0.8355 - accuracy: 0.6594 - val_loss: 0.9030 - val_accuracy: 0.5833 - lr: 0.0010\n",
      "Epoch 11/25\n",
      "20/20 [==============================] - 3s 173ms/step - loss: 0.8146 - accuracy: 0.6687 - val_loss: 0.8056 - val_accuracy: 0.6875 - lr: 0.0010\n",
      "Epoch 12/25\n",
      "20/20 [==============================] - 3s 156ms/step - loss: 0.8263 - accuracy: 0.6469 - val_loss: 0.8781 - val_accuracy: 0.6667 - lr: 0.0010\n",
      "Epoch 13/25\n",
      "20/20 [==============================] - 3s 160ms/step - loss: 0.8306 - accuracy: 0.6562 - val_loss: 0.6529 - val_accuracy: 0.7292 - lr: 0.0010\n",
      "Epoch 14/25\n",
      "20/20 [==============================] - 3s 129ms/step - loss: 0.7604 - accuracy: 0.6781 - val_loss: 0.6896 - val_accuracy: 0.7708 - lr: 0.0010\n",
      "Epoch 15/25\n",
      "20/20 [==============================] - 3s 140ms/step - loss: 0.6575 - accuracy: 0.7688 - val_loss: 0.8938 - val_accuracy: 0.6458 - lr: 0.0010\n",
      "Epoch 16/25\n",
      "20/20 [==============================] - 3s 130ms/step - loss: 0.6675 - accuracy: 0.7437 - val_loss: 0.5434 - val_accuracy: 0.8125 - lr: 5.0000e-04\n",
      "Epoch 17/25\n",
      "20/20 [==============================] - 2s 115ms/step - loss: 0.6727 - accuracy: 0.7344 - val_loss: 0.6347 - val_accuracy: 0.7708 - lr: 5.0000e-04\n",
      "Epoch 18/25\n",
      "20/20 [==============================] - 2s 123ms/step - loss: 0.5470 - accuracy: 0.8062 - val_loss: 0.5445 - val_accuracy: 0.7708 - lr: 5.0000e-04\n",
      "Epoch 19/25\n",
      "20/20 [==============================] - 2s 111ms/step - loss: 0.5793 - accuracy: 0.7812 - val_loss: 0.5894 - val_accuracy: 0.7708 - lr: 2.5000e-04\n",
      "Epoch 20/25\n",
      "20/20 [==============================] - 2s 106ms/step - loss: 0.5847 - accuracy: 0.7844 - val_loss: 0.6086 - val_accuracy: 0.7500 - lr: 2.5000e-04\n",
      "Epoch 21/25\n",
      "20/20 [==============================] - 2s 101ms/step - loss: 0.5212 - accuracy: 0.7688 - val_loss: 0.5506 - val_accuracy: 0.7917 - lr: 1.2500e-04\n"
     ]
    }
   ],
   "source": [
    "history = model.fit(train_generator, epochs=25, steps_per_epoch=20, validation_data = validation_generator, verbose = 1, validation_steps=3, callbacks=[lr,es])"
   ]
  },
  {
   "cell_type": "code",
   "execution_count": 9,
   "metadata": {},
   "outputs": [
    {
     "data": {
      "image/png": "[encoded data removed]",
      "text/plain": [
       "<Figure size 640x480 with 1 Axes>"
      ]
     },
     "metadata": {},
     "output_type": "display_data"
    },
    {
     "data": {
      "text/plain": [
       "<Figure size 640x480 with 0 Axes>"
      ]
     },
     "metadata": {},
     "output_type": "display_data"
    }
   ],
   "source": [
    "import matplotlib.pyplot as plt\n",
    "\n",
    "# Plot the results\n",
    "acc = history.history['accuracy']\n",
    "val_acc = history.history['val_accuracy']\n",
    "loss = history.history['loss']\n",
    "val_loss = history.history['val_loss']\n",
    "\n",
    "epochs = range(len(acc))\n",
    "\n",
    "plt.plot(epochs, acc, 'r', label='Training accuracy')\n",
    "plt.plot(epochs, val_acc, 'b', label='Validation accuracy')\n",
    "plt.title('Training and validation accuracy')\n",
    "plt.legend(loc=0)\n",
    "plt.figure()\n",
    "\n",
    "plt.show()"
   ]
  }
 ],
 "metadata": {
  "kernelspec": {
   "display_name": "tf",
   "language": "python",
   "name": "python3"
  },
  "language_info": {
   "codemirror_mode": {
    "name": "ipython",
    "version": 3
   },
   "file_extension": ".py",
   "mimetype": "text/x-python",
   "name": "python",
   "nbconvert_exporter": "python",
   "pygments_lexer": "ipython3",
   "version": "3.9.18"
  }
 },
 "nbformat": 4,
 "nbformat_minor": 2
}
