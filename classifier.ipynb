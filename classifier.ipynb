{
 "cells": [
  {
   "cell_type": "code",
   "execution_count": 2,
   "metadata": {},
   "outputs": [
    {
     "name": "stdout",
     "output_type": "stream",
     "text": [
      "jumlah data training glioma: 702\n",
      "jumlah data training meningioma: 704\n",
      "jumlah data training gaada tumor: 280\n",
      "jumlah data training pituitary: 576\n"
     ]
    }
   ],
   "source": [
    "import os\n",
    "\n",
    "data_dir = \"D:\\\\TITO\\\\Documents\\\\BANGKIT\\\\project\\\\brain_tumour_classification\\\\Data\"\n",
    "\n",
    "glioma_tumor_training_dir = os.path.join(data_dir, \"training\", \"glioma_tumor\")\n",
    "meningioma_tumor_training_dir = os.path.join(data_dir, \"training\", \"meningioma_tumor\")\n",
    "normal_training_dir = os.path.join(data_dir,\"training\", \"normal\")\n",
    "pituitary_tumor_training_dir = os.path.join(data_dir,\"training\", \"pituitary_tumor\")\n",
    "\n",
    "print('jumlah data training glioma:', len(os.listdir(glioma_tumor_training_dir)))\n",
    "print('jumlah data training meningioma:', len(os.listdir(meningioma_tumor_training_dir)))\n",
    "print('jumlah data training gaada tumor:', len(os.listdir(normal_training_dir)))\n",
    "print('jumlah data training pituitary:', len(os.listdir(pituitary_tumor_training_dir)))"
   ]
  },
  {
   "cell_type": "code",
   "execution_count": 3,
   "metadata": {},
   "outputs": [
    {
     "name": "stdout",
     "output_type": "stream",
     "text": [
      "jumlah data validasi glioma: 199\n",
      "jumlah data validasi meningioma: 209\n",
      "jumlah data validasi gaada tumor: 158\n",
      "jumlah data validasi pituitary: 268\n"
     ]
    }
   ],
   "source": [
    "glioma_tumor_validation_dir = os.path.join(data_dir, \"validation\", \"glioma_tumor\")\n",
    "meningioma_tumor_validation_dir = os.path.join(data_dir, \"validation\", \"meningioma_tumor\")\n",
    "normal_validation_dir = os.path.join(data_dir,\"validation\", \"normal\")\n",
    "pituitary_tumor_validation_dir = os.path.join(data_dir,\"validation\", \"pituitary_tumor\")\n",
    "\n",
    "print('jumlah data validasi glioma:', len(os.listdir(glioma_tumor_validation_dir)))\n",
    "print('jumlah data validasi meningioma:', len(os.listdir(meningioma_tumor_validation_dir)))\n",
    "print('jumlah data validasi gaada tumor:', len(os.listdir(normal_validation_dir)))\n",
    "print('jumlah data validasi pituitary:', len(os.listdir(pituitary_tumor_validation_dir)))"
   ]
  },
  {
   "cell_type": "code",
   "execution_count": 64,
   "metadata": {},
   "outputs": [],
   "source": [
    "import tensorflow as tf\n",
    "\n",
    "model = tf.keras.models.Sequential([\n",
    "    tf.keras.layers.Conv2D(16,(2,2),activation='relu', input_shape=(256,256,3)),\n",
    "    tf.keras.layers.MaxPooling2D(2,2),\n",
    "    tf.keras.layers.Conv2D(32,(2,2),activation='relu'),\n",
    "    tf.keras.layers.MaxPooling2D(2,2),\n",
    "    tf.keras.layers.Conv2D(64,(2,2),activation='relu'),\n",
    "    tf.keras.layers.MaxPooling2D(2,2),\n",
    "    tf.keras.layers.Conv2D(128,(2,2),activation='relu'),\n",
    "    tf.keras.layers.MaxPooling2D(2,2),\n",
    "    tf.keras.layers.Conv2D(128,(2,2),activation='relu'),\n",
    "    tf.keras.layers.MaxPooling2D(2,2),\n",
    "    tf.keras.layers.Flatten(),\n",
    "    tf.keras.layers.Dense(128, activation='relu'),\n",
    "    tf.keras.layers.Dense(32, activation='relu'),\n",
    "    tf.keras.layers.Dense(4, activation='softmax')\n",
    "])"
   ]
  },
  {
   "cell_type": "code",
   "execution_count": 65,
   "metadata": {},
   "outputs": [
    {
     "name": "stdout",
     "output_type": "stream",
     "text": [
      "Model: \"sequential_8\"\n",
      "_________________________________________________________________\n",
      " Layer (type)                Output Shape              Param #   \n",
      "=================================================================\n",
      " conv2d_25 (Conv2D)          (None, 255, 255, 16)      208       \n",
      "                                                                 \n",
      " max_pooling2d_25 (MaxPoolin  (None, 127, 127, 16)     0         \n",
      " g2D)                                                            \n",
      "                                                                 \n",
      " conv2d_26 (Conv2D)          (None, 126, 126, 32)      2080      \n",
      "                                                                 \n",
      " max_pooling2d_26 (MaxPoolin  (None, 63, 63, 32)       0         \n",
      " g2D)                                                            \n",
      "                                                                 \n",
      " conv2d_27 (Conv2D)          (None, 62, 62, 64)        8256      \n",
      "                                                                 \n",
      " max_pooling2d_27 (MaxPoolin  (None, 31, 31, 64)       0         \n",
      " g2D)                                                            \n",
      "                                                                 \n",
      " conv2d_28 (Conv2D)          (None, 30, 30, 128)       32896     \n",
      "                                                                 \n",
      " max_pooling2d_28 (MaxPoolin  (None, 15, 15, 128)      0         \n",
      " g2D)                                                            \n",
      "                                                                 \n",
      " conv2d_29 (Conv2D)          (None, 14, 14, 128)       65664     \n",
      "                                                                 \n",
      " max_pooling2d_29 (MaxPoolin  (None, 7, 7, 128)        0         \n",
      " g2D)                                                            \n",
      "                                                                 \n",
      " flatten_8 (Flatten)         (None, 6272)              0         \n",
      "                                                                 \n",
      " dense_18 (Dense)            (None, 128)               802944    \n",
      "                                                                 \n",
      " dense_19 (Dense)            (None, 32)                4128      \n",
      "                                                                 \n",
      " dense_20 (Dense)            (None, 4)                 132       \n",
      "                                                                 \n",
      "=================================================================\n",
      "Total params: 916,308\n",
      "Trainable params: 916,308\n",
      "Non-trainable params: 0\n",
      "_________________________________________________________________\n"
     ]
    }
   ],
   "source": [
    "model.summary()"
   ]
  },
  {
   "cell_type": "code",
   "execution_count": 66,
   "metadata": {},
   "outputs": [],
   "source": [
    "from keras.callbacks import EarlyStopping, ReduceLROnPlateau\n",
    "es = EarlyStopping(patience=5,\n",
    "\t\t\t\tmonitor = 'val_accuracy',\n",
    "\t\t\t\trestore_best_weights = True)\n",
    "\n",
    "lr = ReduceLROnPlateau(patience = 2,\n",
    "\t\t\t\t\tmonitor = 'val_loss',\n",
    "\t\t\t\t\tfactor = 0.5,\n",
    "\t\t\t\t\tverbose = 0)\n"
   ]
  },
  {
   "cell_type": "code",
   "execution_count": 67,
   "metadata": {},
   "outputs": [],
   "source": [
    "model.compile(loss = 'categorical_crossentropy', optimizer='adam', metrics=['accuracy'])"
   ]
  },
  {
   "cell_type": "code",
   "execution_count": 68,
   "metadata": {},
   "outputs": [
    {
     "name": "stdout",
     "output_type": "stream",
     "text": [
      "Found 2262 images belonging to 4 classes.\n",
      "Found 834 images belonging to 4 classes.\n"
     ]
    }
   ],
   "source": [
    "from tensorflow.keras.preprocessing.image import ImageDataGenerator\n",
    "\n",
    "TRAINING_DIR =\"D:\\\\TITO\\\\Documents\\\\BANGKIT\\\\project\\\\brain_tumour_classification\\\\Data\\\\training\"\n",
    "training_datagen = ImageDataGenerator(rescale = 1./255.0)\n",
    "\n",
    "VALIDATION_DIR = \"D:\\\\TITO\\\\Documents\\\\BANGKIT\\\\project\\\\brain_tumour_classification\\\\Data\\\\validation\"\n",
    "validation_datagen = ImageDataGenerator(rescale=1./255)\n",
    "\n",
    "train_generator = training_datagen.flow_from_directory(\n",
    "    TRAINING_DIR,\n",
    "    target_size=(256,256),\n",
    "    class_mode='categorical',\n",
    "    batch_size = 16\n",
    ")\n",
    "\n",
    "validation_generator = validation_datagen.flow_from_directory(\n",
    "    VALIDATION_DIR,\n",
    "    target_size=(256,256),\n",
    "    class_mode='categorical',\n",
    "    batch_size=16\n",
    ")"
   ]
  },
  {
   "cell_type": "code",
   "execution_count": 69,
   "metadata": {},
   "outputs": [
    {
     "name": "stdout",
     "output_type": "stream",
     "text": [
      "Epoch 1/25\n",
      "20/20 [==============================] - 2s 76ms/step - loss: 1.3425 - accuracy: 0.3250 - val_loss: 1.4021 - val_accuracy: 0.3125 - lr: 0.0010\n",
      "Epoch 2/25\n",
      "20/20 [==============================] - 1s 69ms/step - loss: 1.3389 - accuracy: 0.3032 - val_loss: 1.5019 - val_accuracy: 0.2292 - lr: 0.0010\n",
      "Epoch 3/25\n",
      "20/20 [==============================] - 1s 64ms/step - loss: 1.3093 - accuracy: 0.3387 - val_loss: 1.3351 - val_accuracy: 0.3333 - lr: 0.0010\n",
      "Epoch 4/25\n",
      "20/20 [==============================] - 1s 65ms/step - loss: 1.2539 - accuracy: 0.4097 - val_loss: 1.4555 - val_accuracy: 0.3958 - lr: 0.0010\n",
      "Epoch 5/25\n",
      "20/20 [==============================] - 1s 67ms/step - loss: 1.2465 - accuracy: 0.4531 - val_loss: 1.3738 - val_accuracy: 0.3333 - lr: 0.0010\n",
      "Epoch 6/25\n",
      "20/20 [==============================] - 1s 68ms/step - loss: 1.1065 - accuracy: 0.5031 - val_loss: 1.3219 - val_accuracy: 0.3125 - lr: 5.0000e-04\n",
      "Epoch 7/25\n",
      "20/20 [==============================] - 1s 65ms/step - loss: 1.1095 - accuracy: 0.5031 - val_loss: 1.1131 - val_accuracy: 0.6042 - lr: 5.0000e-04\n",
      "Epoch 8/25\n",
      "20/20 [==============================] - 1s 65ms/step - loss: 0.9830 - accuracy: 0.6156 - val_loss: 1.3065 - val_accuracy: 0.3958 - lr: 5.0000e-04\n",
      "Epoch 9/25\n",
      "20/20 [==============================] - 1s 65ms/step - loss: 0.9519 - accuracy: 0.5688 - val_loss: 1.0707 - val_accuracy: 0.5625 - lr: 5.0000e-04\n",
      "Epoch 10/25\n",
      "20/20 [==============================] - 1s 64ms/step - loss: 0.9528 - accuracy: 0.6062 - val_loss: 1.1264 - val_accuracy: 0.5417 - lr: 5.0000e-04\n",
      "Epoch 11/25\n",
      "20/20 [==============================] - 1s 64ms/step - loss: 0.9346 - accuracy: 0.6031 - val_loss: 0.9242 - val_accuracy: 0.6458 - lr: 5.0000e-04\n",
      "Epoch 12/25\n",
      "20/20 [==============================] - 1s 63ms/step - loss: 0.8222 - accuracy: 0.6387 - val_loss: 1.0842 - val_accuracy: 0.6875 - lr: 5.0000e-04\n",
      "Epoch 13/25\n",
      "20/20 [==============================] - 1s 65ms/step - loss: 0.7847 - accuracy: 0.6781 - val_loss: 0.6761 - val_accuracy: 0.6667 - lr: 5.0000e-04\n",
      "Epoch 14/25\n",
      "20/20 [==============================] - 1s 64ms/step - loss: 0.8504 - accuracy: 0.6562 - val_loss: 0.6782 - val_accuracy: 0.7708 - lr: 5.0000e-04\n",
      "Epoch 15/25\n",
      "20/20 [==============================] - 1s 65ms/step - loss: 0.6807 - accuracy: 0.7406 - val_loss: 0.7038 - val_accuracy: 0.8125 - lr: 5.0000e-04\n",
      "Epoch 16/25\n",
      "20/20 [==============================] - 1s 65ms/step - loss: 0.6435 - accuracy: 0.7656 - val_loss: 0.7129 - val_accuracy: 0.7917 - lr: 2.5000e-04\n",
      "Epoch 17/25\n",
      "20/20 [==============================] - 1s 65ms/step - loss: 0.6416 - accuracy: 0.7281 - val_loss: 0.6862 - val_accuracy: 0.7292 - lr: 2.5000e-04\n",
      "Epoch 18/25\n",
      "20/20 [==============================] - 1s 65ms/step - loss: 0.5452 - accuracy: 0.7969 - val_loss: 1.0101 - val_accuracy: 0.6875 - lr: 1.2500e-04\n",
      "Epoch 19/25\n",
      "20/20 [==============================] - 1s 63ms/step - loss: 0.6853 - accuracy: 0.7194 - val_loss: 1.0608 - val_accuracy: 0.5833 - lr: 1.2500e-04\n",
      "Epoch 20/25\n",
      "20/20 [==============================] - 1s 64ms/step - loss: 0.6253 - accuracy: 0.7563 - val_loss: 1.0220 - val_accuracy: 0.6042 - lr: 6.2500e-05\n",
      "Epoch 21/25\n",
      "20/20 [==============================] - 1s 64ms/step - loss: 0.5649 - accuracy: 0.7531 - val_loss: 0.8785 - val_accuracy: 0.7083 - lr: 6.2500e-05\n",
      "Epoch 22/25\n",
      "20/20 [==============================] - 1s 63ms/step - loss: 0.5581 - accuracy: 0.8000 - val_loss: 0.7038 - val_accuracy: 0.7500 - lr: 3.1250e-05\n",
      "Epoch 23/25\n",
      "20/20 [==============================] - 1s 64ms/step - loss: 0.5498 - accuracy: 0.8094 - val_loss: 0.5996 - val_accuracy: 0.7917 - lr: 3.1250e-05\n",
      "Epoch 24/25\n",
      "20/20 [==============================] - 1s 64ms/step - loss: 0.5918 - accuracy: 0.8031 - val_loss: 0.8880 - val_accuracy: 0.5833 - lr: 3.1250e-05\n",
      "Epoch 25/25\n",
      "20/20 [==============================] - 1s 64ms/step - loss: 0.6138 - accuracy: 0.7688 - val_loss: 0.6182 - val_accuracy: 0.7917 - lr: 3.1250e-05\n"
     ]
    }
   ],
   "source": [
    "history = model.fit(train_generator, epochs=25, steps_per_epoch=20, validation_data = validation_generator, verbose = 1, validation_steps=3, callbacks=[lr,es])"
   ]
  },
  {
   "cell_type": "code",
   "execution_count": 70,
   "metadata": {},
   "outputs": [
    {
     "data": {
      "image/png": "[encoded data removed]",
      "text/plain": [
       "<Figure size 640x480 with 1 Axes>"
      ]
     },
     "metadata": {},
     "output_type": "display_data"
    },
    {
     "data": {
      "text/plain": [
       "<Figure size 640x480 with 0 Axes>"
      ]
     },
     "metadata": {},
     "output_type": "display_data"
    }
   ],
   "source": [
    "import matplotlib.pyplot as plt\n",
    "\n",
    "# Plot the results\n",
    "acc = history.history['accuracy']\n",
    "val_acc = history.history['val_accuracy']\n",
    "loss = history.history['loss']\n",
    "val_loss = history.history['val_loss']\n",
    "\n",
    "epochs = range(len(acc))\n",
    "\n",
    "plt.plot(epochs, acc, 'r', label='Training accuracy')\n",
    "plt.plot(epochs, val_acc, 'b', label='Validation accuracy')\n",
    "plt.title('Training and validation accuracy')\n",
    "plt.legend(loc=0)\n",
    "plt.figure()\n",
    "\n",
    "plt.show()"
   ]
  }
 ],
 "metadata": {
  "kernelspec": {
   "display_name": "tf",
   "language": "python",
   "name": "python3"
  },
  "language_info": {
   "codemirror_mode": {
    "name": "ipython",
    "version": 3
   },
   "file_extension": ".py",
   "mimetype": "text/x-python",
   "name": "python",
   "nbconvert_exporter": "python",
   "pygments_lexer": "ipython3",
   "version": "3.9.18"
  }
 },
 "nbformat": 4,
 "nbformat_minor": 2
}
