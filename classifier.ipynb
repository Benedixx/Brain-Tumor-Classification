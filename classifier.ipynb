{
 "cells": [
  {
   "cell_type": "markdown",
   "metadata": {},
   "source": [
    "# DATA PREP"
   ]
  },
  {
   "cell_type": "code",
   "execution_count": 1,
   "metadata": {},
   "outputs": [
    {
     "name": "stdout",
     "output_type": "stream",
     "text": [
      "jumlah data training glioma: 901\n",
      "jumlah data training meningioma: 913\n",
      "jumlah data training gaada tumor: 438\n",
      "jumlah data training pituitary: 844\n"
     ]
    }
   ],
   "source": [
    "import os\n",
    "\n",
    "#your dataset folder directory\n",
    "data_dir = \"Data\"\n",
    "\n",
    "#define the 4 training directories class\n",
    "glioma_tumor_training_dir = os.path.join(data_dir, \"training\", \"glioma_tumor\")\n",
    "meningioma_tumor_training_dir = os.path.join(data_dir, \"training\", \"meningioma_tumor\")\n",
    "normal_training_dir = os.path.join(data_dir,\"training\", \"normal\")\n",
    "pituitary_tumor_training_dir = os.path.join(data_dir,\"training\", \"pituitary_tumor\")\n",
    "\n",
    "print('jumlah data training glioma:', len(os.listdir(glioma_tumor_training_dir)))\n",
    "print('jumlah data training meningioma:', len(os.listdir(meningioma_tumor_training_dir)))\n",
    "print('jumlah data training gaada tumor:', len(os.listdir(normal_training_dir)))\n",
    "print('jumlah data training pituitary:', len(os.listdir(pituitary_tumor_training_dir)))"
   ]
  },
  {
   "cell_type": "code",
   "execution_count": 3,
   "metadata": {},
   "outputs": [
    {
     "name": "stdout",
     "output_type": "stream",
     "text": [
      "jumlah data validasi glioma: 702\n",
      "jumlah data validasi meningioma: 913\n",
      "jumlah data validasi gaada tumor: 438\n",
      "jumlah data validasi pituitary: 844\n"
     ]
    }
   ],
   "source": [
    "#define the 4 validation directories class\n",
    "glioma_tumor_validation_dir = os.path.join(data_dir, \"validation\", \"glioma_tumor\")\n",
    "meningioma_tumor_validation_dir = os.path.join(data_dir, \"validation\", \"meningioma_tumor\")\n",
    "normal_validation_dir = os.path.join(data_dir,\"validation\", \"normal\")\n",
    "pituitary_tumor_validation_dir = os.path.join(data_dir,\"validation\", \"pituitary_tumor\")\n",
    "\n",
    "print('jumlah data validasi glioma:', len(os.listdir(glioma_tumor_validation_dir)))\n",
    "print('jumlah data validasi meningioma:', len(os.listdir(meningioma_tumor_validation_dir)))\n",
    "print('jumlah data validasi gaada tumor:', len(os.listdir(normal_validation_dir)))\n",
    "print('jumlah data validasi pituitary:', len(os.listdir(pituitary_tumor_validation_dir)))"
   ]
  },
  {
   "cell_type": "markdown",
   "metadata": {},
   "source": [
    "# CREATE MODEL"
   ]
  },
  {
   "cell_type": "code",
   "execution_count": 4,
   "metadata": {},
   "outputs": [],
   "source": [
    "import tensorflow as tf\n",
    "\n",
    "model = tf.keras.models.Sequential([\n",
    "    tf.keras.layers.Conv2D(16,(3,3),activation='relu', input_shape=(256,256,3)),\n",
    "    tf.keras.layers.MaxPooling2D(2,2),\n",
    "    tf.keras.layers.Conv2D(32,(3,3),activation='relu'),\n",
    "    tf.keras.layers.MaxPooling2D(2,2),\n",
    "    tf.keras.layers.Conv2D(64,(3,3),activation='relu'),\n",
    "    tf.keras.layers.MaxPooling2D(2,2),\n",
    "    tf.keras.layers.Conv2D(128,(3,3),activation='relu'),\n",
    "    tf.keras.layers.MaxPooling2D(2,2),\n",
    "    tf.keras.layers.Conv2D(128,(3,3),activation='relu'),\n",
    "    tf.keras.layers.MaxPooling2D(2,2),\n",
    "    tf.keras.layers.Flatten(),\n",
    "    tf.keras.layers.Dense(128, activation='relu'),\n",
    "    tf.keras.layers.Dense(32, activation='relu'),\n",
    "    tf.keras.layers.Dense(4, activation='softmax')\n",
    "])"
   ]
  },
  {
   "cell_type": "code",
   "execution_count": 5,
   "metadata": {},
   "outputs": [
    {
     "name": "stdout",
     "output_type": "stream",
     "text": [
      "Model: \"sequential\"\n",
      "_________________________________________________________________\n",
      " Layer (type)                Output Shape              Param #   \n",
      "=================================================================\n",
      " conv2d (Conv2D)             (None, 254, 254, 16)      448       \n",
      "                                                                 \n",
      " max_pooling2d (MaxPooling2D  (None, 127, 127, 16)     0         \n",
      " )                                                               \n",
      "                                                                 \n",
      " conv2d_1 (Conv2D)           (None, 125, 125, 32)      4640      \n",
      "                                                                 \n",
      " max_pooling2d_1 (MaxPooling  (None, 62, 62, 32)       0         \n",
      " 2D)                                                             \n",
      "                                                                 \n",
      " conv2d_2 (Conv2D)           (None, 60, 60, 64)        18496     \n",
      "                                                                 \n",
      " max_pooling2d_2 (MaxPooling  (None, 30, 30, 64)       0         \n",
      " 2D)                                                             \n",
      "                                                                 \n",
      " conv2d_3 (Conv2D)           (None, 28, 28, 128)       73856     \n",
      "                                                                 \n",
      " max_pooling2d_3 (MaxPooling  (None, 14, 14, 128)      0         \n",
      " 2D)                                                             \n",
      "                                                                 \n",
      " conv2d_4 (Conv2D)           (None, 12, 12, 128)       147584    \n",
      "                                                                 \n",
      " max_pooling2d_4 (MaxPooling  (None, 6, 6, 128)        0         \n",
      " 2D)                                                             \n",
      "                                                                 \n",
      " flatten (Flatten)           (None, 4608)              0         \n",
      "                                                                 \n",
      " dense (Dense)               (None, 128)               589952    \n",
      "                                                                 \n",
      " dense_1 (Dense)             (None, 32)                4128      \n",
      "                                                                 \n",
      " dense_2 (Dense)             (None, 4)                 132       \n",
      "                                                                 \n",
      "=================================================================\n",
      "Total params: 839,236\n",
      "Trainable params: 839,236\n",
      "Non-trainable params: 0\n",
      "_________________________________________________________________\n"
     ]
    }
   ],
   "source": [
    "model.summary()"
   ]
  },
  {
   "cell_type": "code",
   "execution_count": 6,
   "metadata": {},
   "outputs": [],
   "source": [
    "model.compile(loss = 'categorical_crossentropy', optimizer='adam', metrics=['accuracy'])"
   ]
  },
  {
   "cell_type": "code",
   "execution_count": 7,
   "metadata": {},
   "outputs": [
    {
     "name": "stdout",
     "output_type": "stream",
     "text": [
      "Found 3096 images belonging to 4 classes.\n",
      "Found 2897 images belonging to 4 classes.\n"
     ]
    }
   ],
   "source": [
    "from tensorflow.keras.preprocessing.image import ImageDataGenerator\n",
    "\n",
    "#No need to augment data because it leads to underfitting\n",
    "TRAINING_DIR =\"Data\\\\training\"\n",
    "training_datagen = ImageDataGenerator(rescale = 1./255.0)\n",
    "\n",
    "VALIDATION_DIR = \"Data\\\\validation\"\n",
    "validation_datagen = ImageDataGenerator(rescale=1./255)\n",
    "\n",
    "train_generator = training_datagen.flow_from_directory(\n",
    "    TRAINING_DIR,\n",
    "    target_size=(256,256),\n",
    "    class_mode='categorical',\n",
    "    batch_size = 16\n",
    ")\n",
    "\n",
    "validation_generator = validation_datagen.flow_from_directory(\n",
    "    VALIDATION_DIR,\n",
    "    target_size=(256,256),\n",
    "    class_mode='categorical',\n",
    "    batch_size=16\n",
    ")"
   ]
  },
  {
   "cell_type": "code",
   "execution_count": 8,
   "metadata": {},
   "outputs": [
    {
     "name": "stdout",
     "output_type": "stream",
     "text": [
      "Epoch 1/25\n",
      "20/20 [==============================] - 34s 583ms/step - loss: 1.3742 - accuracy: 0.2969 - val_loss: 1.3761 - val_accuracy: 0.3542\n",
      "Epoch 2/25\n",
      "20/20 [==============================] - 12s 590ms/step - loss: 1.3743 - accuracy: 0.2875 - val_loss: 1.4005 - val_accuracy: 0.2292\n",
      "Epoch 3/25\n",
      "20/20 [==============================] - 10s 491ms/step - loss: 1.3737 - accuracy: 0.2688 - val_loss: 1.3772 - val_accuracy: 0.2917\n",
      "Epoch 4/25\n",
      "20/20 [==============================] - 8s 400ms/step - loss: 1.3668 - accuracy: 0.2656 - val_loss: 1.3406 - val_accuracy: 0.3333\n",
      "Epoch 5/25\n",
      "20/20 [==============================] - 7s 361ms/step - loss: 1.3433 - accuracy: 0.2875 - val_loss: 1.3819 - val_accuracy: 0.3542\n",
      "Epoch 6/25\n",
      "20/20 [==============================] - 7s 355ms/step - loss: 1.3131 - accuracy: 0.3125 - val_loss: 1.2623 - val_accuracy: 0.3958\n",
      "Epoch 7/25\n",
      "20/20 [==============================] - 6s 282ms/step - loss: 1.2304 - accuracy: 0.4812 - val_loss: 1.1940 - val_accuracy: 0.5000\n",
      "Epoch 8/25\n",
      "20/20 [==============================] - 5s 276ms/step - loss: 1.1684 - accuracy: 0.4812 - val_loss: 1.1626 - val_accuracy: 0.5208\n",
      "Epoch 9/25\n",
      "20/20 [==============================] - 5s 248ms/step - loss: 1.0717 - accuracy: 0.5063 - val_loss: 1.2174 - val_accuracy: 0.4167\n",
      "Epoch 10/25\n",
      "20/20 [==============================] - 4s 227ms/step - loss: 1.0432 - accuracy: 0.5375 - val_loss: 1.1764 - val_accuracy: 0.4583\n",
      "Epoch 11/25\n",
      "20/20 [==============================] - 5s 230ms/step - loss: 1.1436 - accuracy: 0.4719 - val_loss: 1.2736 - val_accuracy: 0.5000\n",
      "Epoch 12/25\n",
      "20/20 [==============================] - 4s 210ms/step - loss: 1.0307 - accuracy: 0.5406 - val_loss: 0.8121 - val_accuracy: 0.6458\n",
      "Epoch 13/25\n",
      "20/20 [==============================] - 3s 173ms/step - loss: 1.0083 - accuracy: 0.5938 - val_loss: 1.0626 - val_accuracy: 0.4583\n",
      "Epoch 14/25\n",
      "20/20 [==============================] - 4s 196ms/step - loss: 0.9328 - accuracy: 0.6375 - val_loss: 0.7405 - val_accuracy: 0.7083\n",
      "Epoch 15/25\n",
      "20/20 [==============================] - 3s 167ms/step - loss: 0.8521 - accuracy: 0.6344 - val_loss: 0.7260 - val_accuracy: 0.6667\n",
      "Epoch 16/25\n",
      "20/20 [==============================] - 3s 176ms/step - loss: 0.8128 - accuracy: 0.6625 - val_loss: 0.5281 - val_accuracy: 0.7500\n",
      "Epoch 17/25\n",
      "20/20 [==============================] - 3s 174ms/step - loss: 0.6818 - accuracy: 0.7500 - val_loss: 0.9396 - val_accuracy: 0.6250\n",
      "Epoch 18/25\n",
      "20/20 [==============================] - 3s 147ms/step - loss: 0.8625 - accuracy: 0.6125 - val_loss: 0.9802 - val_accuracy: 0.4375\n",
      "Epoch 19/25\n",
      "20/20 [==============================] - 3s 141ms/step - loss: 0.8047 - accuracy: 0.6219 - val_loss: 0.6472 - val_accuracy: 0.7500\n",
      "Epoch 20/25\n",
      "20/20 [==============================] - 3s 127ms/step - loss: 0.8139 - accuracy: 0.6781 - val_loss: 0.6910 - val_accuracy: 0.8125\n",
      "Epoch 21/25\n",
      "20/20 [==============================] - 2s 111ms/step - loss: 0.7032 - accuracy: 0.7219 - val_loss: 0.5552 - val_accuracy: 0.7292\n",
      "Epoch 22/25\n",
      "20/20 [==============================] - 2s 110ms/step - loss: 0.6837 - accuracy: 0.7188 - val_loss: 0.7218 - val_accuracy: 0.6875\n",
      "Epoch 23/25\n",
      "20/20 [==============================] - 2s 112ms/step - loss: 0.6500 - accuracy: 0.7031 - val_loss: 0.5099 - val_accuracy: 0.7708\n",
      "Epoch 24/25\n",
      "20/20 [==============================] - 2s 103ms/step - loss: 0.5940 - accuracy: 0.7469 - val_loss: 0.6048 - val_accuracy: 0.7500\n",
      "Epoch 25/25\n",
      "20/20 [==============================] - 3s 130ms/step - loss: 0.5659 - accuracy: 0.7788 - val_loss: 0.5551 - val_accuracy: 0.7917\n"
     ]
    }
   ],
   "source": [
    "history = model.fit(train_generator, epochs=25, steps_per_epoch=20, validation_data = validation_generator, verbose = 1, validation_steps=3)"
   ]
  },
  {
   "cell_type": "code",
   "execution_count": 10,
   "metadata": {},
   "outputs": [
    {
     "data": {
      "image/png": "[encoded data removed]",
      "text/plain": [
       "<Figure size 640x480 with 1 Axes>"
      ]
     },
     "metadata": {},
     "output_type": "display_data"
    },
    {
     "data": {
      "text/plain": [
       "<Figure size 640x480 with 0 Axes>"
      ]
     },
     "metadata": {},
     "output_type": "display_data"
    }
   ],
   "source": [
    "import matplotlib.pyplot as plt\n",
    "\n",
    "# Plot the results\n",
    "acc = history.history['accuracy']\n",
    "val_acc = history.history['val_accuracy']\n",
    "loss = history.history['loss']\n",
    "val_loss = history.history['val_loss']\n",
    "\n",
    "epochs = range(len(acc))\n",
    "\n",
    "plt.plot(epochs, acc, 'r', label='Training accuracy')\n",
    "plt.plot(epochs, val_acc, 'b', label='Validation accuracy')\n",
    "plt.title('Training and validation accuracy')\n",
    "plt.legend(loc=0)\n",
    "plt.figure()\n",
    "\n",
    "plt.show()"
   ]
  },
  {
   "cell_type": "markdown",
   "metadata": {},
   "source": [
    "# PREDICTING"
   ]
  },
  {
   "cell_type": "code",
   "execution_count": 11,
   "metadata": {},
   "outputs": [
    {
     "name": "stdout",
     "output_type": "stream",
     "text": [
      "[0.92703325 0.05502626 0.01209261 0.00584781]\n",
      "glioma\n"
     ]
    }
   ],
   "source": [
    "import tkinter as tk\n",
    "from tkinter import filedialog\n",
    "from tkinter.filedialog import askopenfile\n",
    "from PIL import Image, ImageTk\n",
    "from tensorflow.keras.utils import load_img, img_to_array\n",
    "import numpy as np\n",
    "\n",
    "#function to call the upload file dialog box\n",
    "def upload_file():\n",
    "    global img, predict_path\n",
    "    f_types = [('Jpg Files', '*.jpg')]\n",
    "    filename = filedialog.askopenfilename(filetypes=f_types)\n",
    "    predict_path = filename\n",
    "    img = ImageTk.PhotoImage(file=filename)\n",
    "    my_w.destroy()\n",
    "\n",
    "my_w = tk.Tk()\n",
    "my_w.geometry(\"400x300\")  \n",
    "my_w.title('upload your mri image')\n",
    "my_font1=('times', 18, 'bold')\n",
    "l1 = tk.Label(my_w,text='upload your mri image',width=30,font=my_font1)  \n",
    "l1.grid(row=1,column=1)\n",
    "b1 = tk.Button(my_w, text='Upload File', \n",
    "   width=20,command = lambda:upload_file())\n",
    "b1.grid(row=2,column=1) \n",
    "\n",
    "my_w.mainloop()\n",
    "\n",
    "img = load_img(predict_path, target_size=(256, 256))\n",
    "x = img_to_array(img)\n",
    "x /= 255\n",
    "x = np.expand_dims(x, axis=0)\n",
    "\n",
    "# Load your model here (make sure you have it saved locally)\n",
    "\n",
    "images = np.vstack([x])\n",
    "classes = model.predict(images, batch_size=10)\n",
    "print(classes[0])\n",
    "\n",
    "if classes[0][0] > classes[0][1] and classes[0][0] > classes[0][2] and classes[0][0] > classes[0][3]:\n",
    "    print('glioma')\n",
    "elif classes[0][1] > classes[0][0] and classes[0][1] > classes[0][2] and classes[0][1] > classes[0][3]:\n",
    "    print('meningioma')\n",
    "elif classes[0][2] > classes[0][0] and classes[0][2] > classes[0][1] and classes[0][2] > classes[0][3]:\n",
    "    print('normal')\n",
    "else:\n",
    "    print('pituitary')\n",
    "\n",
    " "
   ]
  }
 ],
 "metadata": {
  "kernelspec": {
   "display_name": "tf",
   "language": "python",
   "name": "python3"
  },
  "language_info": {
   "codemirror_mode": {
    "name": "ipython",
    "version": 3
   },
   "file_extension": ".py",
   "mimetype": "text/x-python",
   "name": "python",
   "nbconvert_exporter": "python",
   "pygments_lexer": "ipython3",
   "version": "3.9.18"
  }
 },
 "nbformat": 4,
 "nbformat_minor": 2
}
