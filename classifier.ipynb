{
 "cells": [
  {
   "cell_type": "markdown",
   "metadata": {},
   "source": [
    "# DATA PREP"
   ]
  },
  {
   "cell_type": "code",
   "execution_count": 1,
   "metadata": {},
   "outputs": [
    {
     "name": "stdout",
     "output_type": "stream",
     "text": [
      "jumlah data training glioma: 901\n",
      "jumlah data training meningioma: 913\n",
      "jumlah data training gaada tumor: 438\n",
      "jumlah data training pituitary: 844\n"
     ]
    }
   ],
   "source": [
    "import os\n",
    "\n",
    "#your dataset folder directory\n",
    "data_dir = \"Data\"\n",
    "\n",
    "#define the 4 training directories class\n",
    "glioma_tumor_training_dir = os.path.join(data_dir, \"training\", \"glioma_tumor\")\n",
    "meningioma_tumor_training_dir = os.path.join(data_dir, \"training\", \"meningioma_tumor\")\n",
    "normal_training_dir = os.path.join(data_dir,\"training\", \"normal\")\n",
    "pituitary_tumor_training_dir = os.path.join(data_dir,\"training\", \"pituitary_tumor\")\n",
    "\n",
    "print('jumlah data training glioma:', len(os.listdir(glioma_tumor_training_dir)))\n",
    "print('jumlah data training meningioma:', len(os.listdir(meningioma_tumor_training_dir)))\n",
    "print('jumlah data training gaada tumor:', len(os.listdir(normal_training_dir)))\n",
    "print('jumlah data training pituitary:', len(os.listdir(pituitary_tumor_training_dir)))"
   ]
  },
  {
   "cell_type": "code",
   "execution_count": 2,
   "metadata": {},
   "outputs": [
    {
     "name": "stdout",
     "output_type": "stream",
     "text": [
      "jumlah data validasi glioma: 702\n",
      "jumlah data validasi meningioma: 913\n",
      "jumlah data validasi gaada tumor: 438\n",
      "jumlah data validasi pituitary: 844\n"
     ]
    }
   ],
   "source": [
    "#define the 4 validation directories class\n",
    "glioma_tumor_validation_dir = os.path.join(data_dir, \"validation\", \"glioma_tumor\")\n",
    "meningioma_tumor_validation_dir = os.path.join(data_dir, \"validation\", \"meningioma_tumor\")\n",
    "normal_validation_dir = os.path.join(data_dir,\"validation\", \"normal\")\n",
    "pituitary_tumor_validation_dir = os.path.join(data_dir,\"validation\", \"pituitary_tumor\")\n",
    "\n",
    "print('jumlah data validasi glioma:', len(os.listdir(glioma_tumor_validation_dir)))\n",
    "print('jumlah data validasi meningioma:', len(os.listdir(meningioma_tumor_validation_dir)))\n",
    "print('jumlah data validasi gaada tumor:', len(os.listdir(normal_validation_dir)))\n",
    "print('jumlah data validasi pituitary:', len(os.listdir(pituitary_tumor_validation_dir)))"
   ]
  },
  {
   "cell_type": "markdown",
   "metadata": {},
   "source": [
    "# CREATE MODEL"
   ]
  },
  {
   "cell_type": "code",
   "execution_count": 16,
   "metadata": {},
   "outputs": [],
   "source": [
    "import tensorflow as tf\n",
    "\n",
    "model = tf.keras.models.Sequential([\n",
    "    tf.keras.layers.Conv2D(16,(3,3),activation='relu', input_shape=(256,256,3)),\n",
    "    tf.keras.layers.MaxPooling2D(2,2),\n",
    "    tf.keras.layers.Conv2D(32,(3,3),activation='relu'),\n",
    "    tf.keras.layers.MaxPooling2D(2,2),\n",
    "    tf.keras.layers.Conv2D(64,(3,3),activation='relu'),\n",
    "    tf.keras.layers.MaxPooling2D(2,2),\n",
    "    tf.keras.layers.Conv2D(128,(3,3),activation='relu'),\n",
    "    tf.keras.layers.MaxPooling2D(2,2),\n",
    "    tf.keras.layers.Conv2D(128,(3,3),activation='relu'),\n",
    "    tf.keras.layers.MaxPooling2D(2,2),\n",
    "    tf.keras.layers.Flatten(),\n",
    "    tf.keras.layers.Dense(128, activation='relu'),\n",
    "    tf.keras.layers.Dense(32, activation='relu'),\n",
    "    tf.keras.layers.Dense(4, activation='softmax')\n",
    "])"
   ]
  },
  {
   "cell_type": "code",
   "execution_count": 5,
   "metadata": {},
   "outputs": [
    {
     "name": "stdout",
     "output_type": "stream",
     "text": [
      "Model: \"sequential\"\n",
      "_________________________________________________________________\n",
      " Layer (type)                Output Shape              Param #   \n",
      "=================================================================\n",
      " conv2d (Conv2D)             (None, 254, 254, 16)      448       \n",
      "                                                                 \n",
      " max_pooling2d (MaxPooling2D  (None, 127, 127, 16)     0         \n",
      " )                                                               \n",
      "                                                                 \n",
      " conv2d_1 (Conv2D)           (None, 125, 125, 32)      4640      \n",
      "                                                                 \n",
      " max_pooling2d_1 (MaxPooling  (None, 62, 62, 32)       0         \n",
      " 2D)                                                             \n",
      "                                                                 \n",
      " conv2d_2 (Conv2D)           (None, 60, 60, 64)        18496     \n",
      "                                                                 \n",
      " max_pooling2d_2 (MaxPooling  (None, 30, 30, 64)       0         \n",
      " 2D)                                                             \n",
      "                                                                 \n",
      " conv2d_3 (Conv2D)           (None, 28, 28, 128)       73856     \n",
      "                                                                 \n",
      " max_pooling2d_3 (MaxPooling  (None, 14, 14, 128)      0         \n",
      " 2D)                                                             \n",
      "                                                                 \n",
      " conv2d_4 (Conv2D)           (None, 12, 12, 128)       147584    \n",
      "                                                                 \n",
      " max_pooling2d_4 (MaxPooling  (None, 6, 6, 128)        0         \n",
      " 2D)                                                             \n",
      "                                                                 \n",
      " flatten (Flatten)           (None, 4608)              0         \n",
      "                                                                 \n",
      " dense (Dense)               (None, 128)               589952    \n",
      "                                                                 \n",
      " dense_1 (Dense)             (None, 32)                4128      \n",
      "                                                                 \n",
      " dense_2 (Dense)             (None, 4)                 132       \n",
      "                                                                 \n",
      "=================================================================\n",
      "Total params: 839,236\n",
      "Trainable params: 839,236\n",
      "Non-trainable params: 0\n",
      "_________________________________________________________________\n"
     ]
    }
   ],
   "source": [
    "model.summary()"
   ]
  },
  {
   "cell_type": "code",
   "execution_count": 17,
   "metadata": {},
   "outputs": [],
   "source": [
    "model.compile(loss = 'categorical_crossentropy', optimizer=tf.keras.optimizers.Adam(), metrics=['accuracy'])"
   ]
  },
  {
   "cell_type": "code",
   "execution_count": 18,
   "metadata": {},
   "outputs": [
    {
     "name": "stdout",
     "output_type": "stream",
     "text": [
      "Found 3096 images belonging to 4 classes.\n",
      "Found 2897 images belonging to 4 classes.\n"
     ]
    }
   ],
   "source": [
    "from tensorflow.keras.preprocessing.image import ImageDataGenerator\n",
    "\n",
    "#No need to augment data because it leads to underfitting\n",
    "TRAINING_DIR =\"Data\\\\training\"\n",
    "training_datagen = ImageDataGenerator(rescale = 1./255.0)\n",
    "\n",
    "VALIDATION_DIR = \"Data\\\\validation\"\n",
    "validation_datagen = ImageDataGenerator(rescale=1./255)\n",
    "\n",
    "train_generator = training_datagen.flow_from_directory(\n",
    "    TRAINING_DIR,\n",
    "    target_size=(256,256),\n",
    "    class_mode='categorical',\n",
    "    batch_size = 16\n",
    ")\n",
    "\n",
    "validation_generator = validation_datagen.flow_from_directory(\n",
    "    VALIDATION_DIR,\n",
    "    target_size=(256,256),\n",
    "    class_mode='categorical',\n",
    "    batch_size=16\n",
    ")"
   ]
  },
  {
   "cell_type": "code",
   "execution_count": 19,
   "metadata": {},
   "outputs": [
    {
     "name": "stdout",
     "output_type": "stream",
     "text": [
      "Epoch 1/25\n",
      "194/194 [==============================] - 29s 141ms/step - loss: 1.1885 - accuracy: 0.4490 - val_loss: 0.9777 - val_accuracy: 0.5625\n",
      "Epoch 2/25\n",
      "194/194 [==============================] - 25s 127ms/step - loss: 0.7998 - accuracy: 0.6702 - val_loss: 0.7028 - val_accuracy: 0.7083\n",
      "Epoch 3/25\n",
      "194/194 [==============================] - 39s 198ms/step - loss: 0.5901 - accuracy: 0.7658 - val_loss: 0.5071 - val_accuracy: 0.7917\n",
      "Epoch 4/25\n",
      "194/194 [==============================] - 26s 131ms/step - loss: 0.4409 - accuracy: 0.8304 - val_loss: 0.2313 - val_accuracy: 0.9375\n",
      "Epoch 5/25\n",
      "194/194 [==============================] - 23s 118ms/step - loss: 0.2818 - accuracy: 0.8934 - val_loss: 0.1106 - val_accuracy: 0.9792\n",
      "Epoch 6/25\n",
      "194/194 [==============================] - 24s 122ms/step - loss: 0.2080 - accuracy: 0.9212 - val_loss: 0.0710 - val_accuracy: 1.0000\n",
      "Epoch 7/25\n",
      "194/194 [==============================] - 23s 121ms/step - loss: 0.1610 - accuracy: 0.9373 - val_loss: 0.1104 - val_accuracy: 0.9583\n",
      "Epoch 8/25\n",
      "194/194 [==============================] - 23s 120ms/step - loss: 0.1271 - accuracy: 0.9564 - val_loss: 0.0503 - val_accuracy: 0.9792\n",
      "Epoch 9/25\n",
      "194/194 [==============================] - 24s 121ms/step - loss: 0.0606 - accuracy: 0.9780 - val_loss: 0.0527 - val_accuracy: 1.0000\n",
      "Epoch 10/25\n",
      "194/194 [==============================] - 24s 121ms/step - loss: 0.0767 - accuracy: 0.9758 - val_loss: 0.0601 - val_accuracy: 0.9792\n",
      "Epoch 11/25\n",
      "194/194 [==============================] - 25s 127ms/step - loss: 0.0740 - accuracy: 0.9755 - val_loss: 0.0418 - val_accuracy: 0.9792\n",
      "Epoch 12/25\n",
      "194/194 [==============================] - 25s 126ms/step - loss: 0.0240 - accuracy: 0.9929 - val_loss: 0.0040 - val_accuracy: 1.0000\n",
      "Epoch 13/25\n",
      "194/194 [==============================] - 24s 125ms/step - loss: 0.0261 - accuracy: 0.9932 - val_loss: 0.0735 - val_accuracy: 0.9375\n",
      "Epoch 14/25\n",
      "194/194 [==============================] - 25s 128ms/step - loss: 0.0755 - accuracy: 0.9745 - val_loss: 0.0254 - val_accuracy: 0.9792\n",
      "Epoch 15/25\n",
      "194/194 [==============================] - 24s 123ms/step - loss: 0.0325 - accuracy: 0.9906 - val_loss: 0.0057 - val_accuracy: 1.0000\n",
      "Epoch 16/25\n",
      "194/194 [==============================] - 23s 120ms/step - loss: 0.0436 - accuracy: 0.9861 - val_loss: 0.0647 - val_accuracy: 0.9792\n",
      "Epoch 17/25\n",
      "194/194 [==============================] - 24s 121ms/step - loss: 0.0787 - accuracy: 0.9764 - val_loss: 0.0983 - val_accuracy: 0.9792\n",
      "Epoch 18/25\n",
      "194/194 [==============================] - 24s 124ms/step - loss: 0.0446 - accuracy: 0.9861 - val_loss: 0.0312 - val_accuracy: 0.9792\n",
      "Epoch 19/25\n",
      "194/194 [==============================] - 24s 125ms/step - loss: 0.0089 - accuracy: 0.9961 - val_loss: 0.0011 - val_accuracy: 1.0000\n",
      "Epoch 20/25\n",
      "194/194 [==============================] - 23s 119ms/step - loss: 0.0211 - accuracy: 0.9935 - val_loss: 9.1153e-04 - val_accuracy: 1.0000\n",
      "Epoch 21/25\n",
      "194/194 [==============================] - 23s 120ms/step - loss: 0.0064 - accuracy: 0.9981 - val_loss: 1.4303e-04 - val_accuracy: 1.0000\n",
      "Epoch 22/25\n",
      "194/194 [==============================] - 24s 122ms/step - loss: 0.0037 - accuracy: 0.9987 - val_loss: 7.0112e-05 - val_accuracy: 1.0000\n",
      "Epoch 23/25\n",
      "194/194 [==============================] - 25s 126ms/step - loss: 0.0033 - accuracy: 0.9990 - val_loss: 0.0157 - val_accuracy: 0.9792\n",
      "Epoch 24/25\n",
      "194/194 [==============================] - 24s 125ms/step - loss: 0.0018 - accuracy: 0.9994 - val_loss: 2.1516e-04 - val_accuracy: 1.0000\n",
      "Epoch 25/25\n",
      "194/194 [==============================] - 31s 158ms/step - loss: 0.0020 - accuracy: 0.9990 - val_loss: 1.3206e-04 - val_accuracy: 1.0000\n"
     ]
    }
   ],
   "source": [
    "history = model.fit(train_generator, epochs=25, validation_data = validation_generator, verbose = 1, validation_steps=3)"
   ]
  },
  {
   "cell_type": "code",
   "execution_count": 20,
   "metadata": {},
   "outputs": [
    {
     "data": {
      "image/png": "[encoded data removed]",
      "text/plain": [
       "<Figure size 640x480 with 1 Axes>"
      ]
     },
     "metadata": {},
     "output_type": "display_data"
    },
    {
     "data": {
      "text/plain": [
       "<Figure size 640x480 with 0 Axes>"
      ]
     },
     "metadata": {},
     "output_type": "display_data"
    }
   ],
   "source": [
    "import matplotlib.pyplot as plt\n",
    "\n",
    "# Plot the results\n",
    "acc = history.history['accuracy']\n",
    "val_acc = history.history['val_accuracy']\n",
    "loss = history.history['loss']\n",
    "val_loss = history.history['val_loss']\n",
    "\n",
    "epochs = range(len(acc))\n",
    "\n",
    "plt.plot(epochs, acc, 'r', label='Training accuracy')\n",
    "plt.plot(epochs, val_acc, 'b', label='Validation accuracy')\n",
    "plt.title('Training and validation accuracy')\n",
    "plt.legend(loc=0)\n",
    "plt.figure()\n",
    "\n",
    "plt.show()"
   ]
  },
  {
   "cell_type": "code",
   "execution_count": 21,
   "metadata": {},
   "outputs": [
    {
     "data": {
      "image/png": "[encoded data removed]",
      "text/plain": [
       "<Figure size 640x480 with 1 Axes>"
      ]
     },
     "metadata": {},
     "output_type": "display_data"
    }
   ],
   "source": [
    "plt.plot(history.history['loss'])\n",
    "plt.plot(history.history['val_loss'])\n",
    "plt.title('model loss')\n",
    "plt.ylabel('loss')\n",
    "plt.xlabel('epoch')\n",
    "plt.legend(['train', 'test'], loc='upper left')\n",
    "plt.show()"
   ]
  },
  {
   "cell_type": "code",
   "execution_count": 22,
   "metadata": {},
   "outputs": [],
   "source": [
    "file_location = 'D:\\\\TITO\\\\Documents\\\\BANGKIT\\\\project\\\\brain_tumour_classification\\\\model_classification_terbaik.h5'\n",
    "model.save(file_location)"
   ]
  },
  {
   "cell_type": "markdown",
   "metadata": {},
   "source": [
    "# PREDICTING"
   ]
  },
  {
   "cell_type": "code",
   "execution_count": 23,
   "metadata": {},
   "outputs": [
    {
     "name": "stdout",
     "output_type": "stream",
     "text": [
      "[9.9999976e-01 1.2657496e-07 7.9619966e-08 2.4708963e-26]\n",
      "glioma\n"
     ]
    }
   ],
   "source": [
    "import tkinter as tk\n",
    "from tkinter import filedialog\n",
    "from tkinter.filedialog import askopenfile\n",
    "from PIL import Image, ImageTk\n",
    "from tensorflow.keras.utils import load_img, img_to_array\n",
    "import numpy as np\n",
    "\n",
    "#function to call the upload file dialog box\n",
    "def upload_file():\n",
    "    global img, predict_path\n",
    "    f_types = [('Jpg Files', '*.jpg')]\n",
    "    filename = filedialog.askopenfilename(filetypes=f_types)\n",
    "    predict_path = filename\n",
    "    img = ImageTk.PhotoImage(file=filename)\n",
    "    my_w.destroy()\n",
    "\n",
    "my_w = tk.Tk()\n",
    "my_w.geometry(\"400x300\")  \n",
    "my_w.title('upload your mri image')\n",
    "my_font1=('times', 18, 'bold')\n",
    "l1 = tk.Label(my_w,text='upload your mri image',width=30,font=my_font1)  \n",
    "l1.grid(row=1,column=1)\n",
    "b1 = tk.Button(my_w, text='Upload File', \n",
    "   width=20,command = lambda:upload_file())\n",
    "b1.grid(row=2,column=1) \n",
    "\n",
    "my_w.mainloop()\n",
    "\n",
    "img = load_img(predict_path, target_size=(256, 256))\n",
    "x = img_to_array(img)\n",
    "x /= 255\n",
    "x = np.expand_dims(x, axis=0)\n",
    "\n",
    "# Load your model here (make sure you have it saved locally)\n",
    "\n",
    "images = np.vstack([x])\n",
    "classes = model.predict(images, batch_size=10)\n",
    "print(classes[0])\n",
    "\n",
    "if classes[0][0] > classes[0][1] and classes[0][0] > classes[0][2] and classes[0][0] > classes[0][3]:\n",
    "    print('glioma')\n",
    "elif classes[0][1] > classes[0][0] and classes[0][1] > classes[0][2] and classes[0][1] > classes[0][3]:\n",
    "    print('meningioma')\n",
    "elif classes[0][2] > classes[0][0] and classes[0][2] > classes[0][1] and classes[0][2] > classes[0][3]:\n",
    "    print('normal')\n",
    "else:\n",
    "    print('pituitary')\n",
    "\n",
    " "
   ]
  }
 ],
 "metadata": {
  "kernelspec": {
   "display_name": "tf",
   "language": "python",
   "name": "python3"
  },
  "language_info": {
   "codemirror_mode": {
    "name": "ipython",
    "version": 3
   },
   "file_extension": ".py",
   "mimetype": "text/x-python",
   "name": "python",
   "nbconvert_exporter": "python",
   "pygments_lexer": "ipython3",
   "version": "3.9.18"
  }
 },
 "nbformat": 4,
 "nbformat_minor": 2
}
