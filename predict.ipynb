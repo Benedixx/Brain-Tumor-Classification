{
 "cells": [
  {
   "cell_type": "code",
   "execution_count": null,
   "metadata": {},
   "outputs": [],
   "source": [
    "import tensorflow as tf\n",
    "import numpy as np\n",
    "import os\n",
    "import matplotlib.pyplot as plt\n",
    "from tensorflow.keras.preprocessing import image\n",
    "from keras import utils\n",
    "import tkinter as tk\n",
    "from tkinter import filedialog\n",
    "from tkinter.filedialog import askopenfile\n",
    "from PIL import Image, ImageTk"
   ]
  },
  {
   "cell_type": "code",
   "execution_count": null,
   "metadata": {},
   "outputs": [],
   "source": [
    "file_path = 'D:\\\\TITO\\\\Documents\\\\BANGKIT\\\\project\\\\brain_tumour_classification\\\\model_classification_terbaik.h5'\n",
    "model = tf.keras.models.load_model(file_path )"
   ]
  },
  {
   "cell_type": "code",
   "execution_count": null,
   "metadata": {},
   "outputs": [],
   "source": [
    "import tkinter as tk\n",
    "from tkinter import filedialog\n",
    "from tkinter.filedialog import askopenfile\n",
    "from PIL import Image, ImageTk\n",
    "from tensorflow.keras.utils import load_img, img_to_array\n",
    "import numpy as np\n",
    "\n",
    "#function to call the upload file dialog box\n",
    "def upload_file():\n",
    "    global img, predict_path\n",
    "    f_types = [('Jpg Files', '*.jpg')]\n",
    "    filename = filedialog.askopenfilename(filetypes=f_types)\n",
    "    predict_path = filename\n",
    "    img = ImageTk.PhotoImage(file=filename)\n",
    "    my_w.destroy()\n",
    "\n",
    "my_w = tk.Tk()\n",
    "my_w.geometry(\"400x300\")  \n",
    "my_w.title('upload your mri image')\n",
    "my_font1=('times', 18, 'bold')\n",
    "l1 = tk.Label(my_w,text='upload your mri image',width=30,font=my_font1)  \n",
    "l1.grid(row=1,column=1)\n",
    "b1 = tk.Button(my_w, text='Upload File', \n",
    "   width=20,command = lambda:upload_file())\n",
    "b1.grid(row=2,column=1) \n",
    "\n",
    "my_w.mainloop()\n",
    "\n",
    "img = load_img(predict_path, target_size=(256, 256))\n",
    "x = img_to_array(img)\n",
    "x /= 255\n",
    "x = np.expand_dims(x, axis=0)\n",
    "\n",
    "# Load your model here (make sure you have it saved locally)\n",
    "\n",
    "images = np.vstack([x])\n",
    "classes = model.predict(images, batch_size=10)\n",
    "print(classes[0])\n",
    "\n",
    "if classes[0][0] > classes[0][1] and classes[0][0] > classes[0][2] and classes[0][0] > classes[0][3]:\n",
    "    print('glioma')\n",
    "elif classes[0][1] > classes[0][0] and classes[0][1] > classes[0][2] and classes[0][1] > classes[0][3]:\n",
    "    print('meningioma')\n",
    "elif classes[0][2] > classes[0][0] and classes[0][2] > classes[0][1] and classes[0][2] > classes[0][3]:\n",
    "    print('normal')\n",
    "else:\n",
    "    print('pituitary')\n",
    "\n",
    " "
   ]
  }
 ],
 "metadata": {
  "language_info": {
   "name": "python"
  }
 },
 "nbformat": 4,
 "nbformat_minor": 2
}
